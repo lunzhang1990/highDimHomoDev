{
 "cells": [
  {
   "cell_type": "code",
   "execution_count": 2,
   "metadata": {},
   "outputs": [],
   "source": [
    "import os \n",
    "import json"
   ]
  },
  {
   "cell_type": "markdown",
   "metadata": {},
   "source": [
    "# store the PN.json file "
   ]
  },
  {
   "cell_type": "code",
   "execution_count": 6,
   "metadata": {},
   "outputs": [
    {
     "data": {
      "text/plain": [
       "('x_o_2.json', '(x+y)z_o_2.json')"
      ]
     },
     "execution_count": 6,
     "metadata": {},
     "output_type": "execute_result"
    }
   ],
   "source": [
    "[x for x in os.listdir() if x.endswith('json')][0], [x for x in os.listdir() if x.endswith('json')][-4]"
   ]
  },
  {
   "cell_type": "code",
   "execution_count": 9,
   "metadata": {},
   "outputs": [],
   "source": [
    "files = [x for x in os.listdir() if x.endswith('json')]\n",
    "for file in files:\n",
    "    with open(file,'r') as f:\n",
    "        temp = json.load(f)\n",
    "        \n",
    "    prefix = file.split('.')[0]\n",
    "    newfile = 'celldata/'+prefix+'_PN.json'\n",
    "    with open(newfile,'w') as f:\n",
    "        json.dump(temp,f)"
   ]
  },
  {
   "cell_type": "code",
   "execution_count": 7,
   "metadata": {},
   "outputs": [],
   "source": [
    "files = []\n",
    "for file in ('x_o_2.json', '(x+y)z_o_2.json'):\n",
    "    with open(file,'r') as f:\n",
    "        temp = json.load(f)\n",
    "        \n",
    "    prefix = file.split('.')[0]\n",
    "    newfile = 'celldata/'+prefix+'_PN.json'\n",
    "    with open(newfile,'w') as f:\n",
    "        json.dump(temp,f)"
   ]
  },
  {
   "cell_type": "markdown",
   "metadata": {},
   "source": [
    "# Generate face lattice files and coboundary files"
   ]
  },
  {
   "cell_type": "code",
   "execution_count": 15,
   "metadata": {},
   "outputs": [],
   "source": [
    "def isFace(f,c):\n",
    "    if set(f).issubset(set(c)):\n",
    "        return True\n",
    "    \n",
    "    return False\n",
    "\n",
    "def getFaceLattice(apnList):\n",
    "    faceLattice = dict()\n",
    "    for index in apnList:\n",
    "        pn = apnList[index]\n",
    "        d = len(pn)\n",
    "        for dim in range(d-1,0,-1):\n",
    "            cells = pn[str(dim)]\n",
    "            faces = pn[str(dim-1)]\n",
    "            for c in cells:\n",
    "                for f in faces:\n",
    "                    if isFace(f,c):\n",
    "                        sf = tuple(sorted(f))\n",
    "                        sc = str(tuple(sorted(c)))\n",
    "                        if sc not in faceLattice:\n",
    "                            faceLattice[sc] = []\n",
    "                        faceLattice[sc].append(sf)\n",
    "        \n",
    "        # the zero diminsion\n",
    "        cells = pn['0']\n",
    "        for point in cells:\n",
    "            faceLattice[str(tuple(sorted(point)))] = []\n",
    "            \n",
    "            \n",
    "    # remove the duplicate faces\n",
    "    for key in faceLattice:\n",
    "        faceLattice[key] = list(set(faceLattice[key]))\n",
    "            \n",
    "    return faceLattice\n",
    "\n",
    "def loadAPNFile(apnFileName):\n",
    "    with open(apnFileName,'r') as file:\n",
    "        temp = json.load(file)\n",
    "    reurn\n",
    "\n",
    "\n",
    "    \n",
    "def generateFaceLatticeFile(apnFileName):\n",
    "    with open(apnFileName,'r') as file:\n",
    "        apnFaceLattie = json.load(file)\n",
    "    res = getFaceLattice(apnFaceLattie)\n",
    "    \n",
    "    filename = apnFileName.split('_PN')[0] + '_FL.json'\n",
    "    with open(filename,'w') as file:\n",
    "        json.dump(res,file) \n",
    "        \n",
    "    return \n",
    "\n",
    "def generateCoboundaryFile(apnLatticeFileName):\n",
    "    with open(apnLatticeFileName,'r') as file:\n",
    "        apnFaceLattice = json.load(file)\n",
    "    \n",
    "    boundaryMatrix = apnFaceLattice\n",
    "    coboundaryMatrix = dict()\n",
    "    \n",
    "    for cell in boundaryMatrix:\n",
    "        boundary = boundaryMatrix[cell]\n",
    "        for b in boundary:\n",
    "            if str(b) not in coboundaryMatrix:\n",
    "                coboundaryMatrix[str(b)] = []\n",
    "            coboundaryMatrix[str(b)].append(cell)\n",
    "    \n",
    "    filename = apnLatticeFileName.split(\"_FL\")[0] + \"_CB.json\"\n",
    "    with open(filename, 'w') as file:\n",
    "        json.dump(coboundaryMatrix,file)\n",
    "\n",
    "    return"
   ]
  },
  {
   "cell_type": "code",
   "execution_count": 16,
   "metadata": {},
   "outputs": [],
   "source": [
    "apnFileName = \"celldata/x_o_2_PN.json\"\n",
    "generateFaceLatticeFile(apnFileName)"
   ]
  },
  {
   "cell_type": "code",
   "execution_count": 17,
   "metadata": {},
   "outputs": [],
   "source": [
    "apnLatticeFileName = \"celldata/x_o_2_FL.json\"\n",
    "generateCoboundaryFile(apnLatticeFileName)"
   ]
  },
  {
   "cell_type": "code",
   "execution_count": 19,
   "metadata": {},
   "outputs": [],
   "source": [
    "apnFileName = \"celldata/xy_o_1_PN.json\"\n",
    "generateFaceLatticeFile(apnFileName)\n",
    "apnLatticeFileName = \"celldata/x_o_1_FL.json\"\n",
    "generateCoboundaryFile(apnLatticeFileName)"
   ]
  },
  {
   "cell_type": "code",
   "execution_count": 21,
   "metadata": {},
   "outputs": [],
   "source": [
    "apnFileName = \"celldata/(x+y)z_o_2_PN.json\"\n",
    "generateFaceLatticeFile(apnFileName)"
   ]
  },
  {
   "cell_type": "code",
   "execution_count": 22,
   "metadata": {},
   "outputs": [],
   "source": [
    "apnLatticeFileName = \"celldata/(x+y)z_o_2_FL.json\"\n",
    "generateCoboundaryFile(apnLatticeFileName)"
   ]
  },
  {
   "cell_type": "code",
   "execution_count": null,
   "metadata": {},
   "outputs": [],
   "source": []
  }
 ],
 "metadata": {
  "kernelspec": {
   "display_name": "Python (tensorflow)",
   "language": "python",
   "name": "myenv"
  },
  "language_info": {
   "codemirror_mode": {
    "name": "ipython",
    "version": 3
   },
   "file_extension": ".py",
   "mimetype": "text/x-python",
   "name": "python",
   "nbconvert_exporter": "python",
   "pygments_lexer": "ipython3",
   "version": "3.6.7"
  }
 },
 "nbformat": 4,
 "nbformat_minor": 2
}
