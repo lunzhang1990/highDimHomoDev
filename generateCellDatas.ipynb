{
 "cells": [
  {
   "cell_type": "code",
   "execution_count": 1,
   "metadata": {},
   "outputs": [],
   "source": [
    "import os \n",
    "import json"
   ]
  },
  {
   "cell_type": "code",
   "execution_count": 4,
   "metadata": {},
   "outputs": [
    {
     "data": {
      "text/plain": [
       "['(x+y)zw_o_1.json',\n",
       " '(x+y)z_o_1.json',\n",
       " 'xy_o_1.json',\n",
       " 'xyzw_o_1.json',\n",
       " 'xyz_o_1.json',\n",
       " 'x+y+z+w_o_1.json',\n",
       " 'x+y_o_1.json',\n",
       " 'x+y+z_o_1.json',\n",
       " 'x_o_1.json']"
      ]
     },
     "execution_count": 4,
     "metadata": {},
     "output_type": "execute_result"
    }
   ],
   "source": [
    "[x for x in os.listdir() if x.endswith('json')]"
   ]
  },
  {
   "cell_type": "code",
   "execution_count": null,
   "metadata": {},
   "outputs": [],
   "source": [
    "files = [x for x in os.listdir() if x.endswith('json')]\n",
    "for file in files:\n",
    "    with open(file,'r') as f:\n",
    "        temp = json.load(f)\n",
    "        \n",
    "    prefix = file.split('.')[0]\n",
    "    newfile = prefix+'_PN.json'\n",
    "    with open(newfile,'w') as fi"
   ]
  }
 ],
 "metadata": {
  "kernelspec": {
   "display_name": "Python (tensorflow)",
   "language": "python",
   "name": "myenv"
  },
  "language_info": {
   "codemirror_mode": {
    "name": "ipython",
    "version": 3
   },
   "file_extension": ".py",
   "mimetype": "text/x-python",
   "name": "python",
   "nbconvert_exporter": "python",
   "pygments_lexer": "ipython3",
   "version": "3.6.7"
  }
 },
 "nbformat": 4,
 "nbformat_minor": 2
}
