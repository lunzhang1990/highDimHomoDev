{
 "cells": [
  {
   "cell_type": "markdown",
   "metadata": {},
   "source": [
    "We are going to use discrete morse theory to the essential 472 nodes in the complete reduced 10-D space to see whether we can reduce it to the 7 dim space over p53 and then apply the same method again to the 7-D space"
   ]
  },
  {
   "cell_type": "code",
   "execution_count": 21,
   "metadata": {},
   "outputs": [],
   "source": [
    "import json\n",
    "from homologyHelpers import *"
   ]
  },
  {
   "cell_type": "code",
   "execution_count": 22,
   "metadata": {},
   "outputs": [],
   "source": [
    "with open('essentialPNList.dat','r') as file:\n",
    "    pnlist = json.load(file)"
   ]
  },
  {
   "cell_type": "code",
   "execution_count": 23,
   "metadata": {},
   "outputs": [],
   "source": [
    "for i in range(len(pnlist)):\n",
    "    pnlist[i] = [tuple(x) for x in pnlist[i]]"
   ]
  },
  {
   "cell_type": "code",
   "execution_count": 24,
   "metadata": {},
   "outputs": [],
   "source": [
    "projectedFactor = set([x[0] for x in pnlist])"
   ]
  },
  {
   "cell_type": "code",
   "execution_count": 25,
   "metadata": {},
   "outputs": [
    {
     "data": {
      "text/plain": [
       "{(-2, 0, -1, 1), (0, -2, -1, 1), (0, -1, -2, 1), (0, -1, 1, -2)}"
      ]
     },
     "execution_count": 25,
     "metadata": {},
     "output_type": "execute_result"
    }
   ],
   "source": [
    "projectedFactor"
   ]
  },
  {
   "cell_type": "code",
   "execution_count": 26,
   "metadata": {},
   "outputs": [],
   "source": [
    "factorStatistics = dict()\n",
    "for e in projectedFactor:\n",
    "    factorStatistics[e] = 0\n",
    "\n",
    "realFactor = 0\n",
    "for i in range(len(pnlist)):\n",
    "    currPN = pnlist[i]\n",
    "    currFactor = currPN[realFactor]\n",
    "    factorStatistics[currFactor]+=1"
   ]
  },
  {
   "cell_type": "code",
   "execution_count": 27,
   "metadata": {},
   "outputs": [
    {
     "data": {
      "text/plain": [
       "{(0, -1, -2, 1): 155,\n",
       " (0, -2, -1, 1): 155,\n",
       " (-2, 0, -1, 1): 79,\n",
       " (0, -1, 1, -2): 83}"
      ]
     },
     "execution_count": 27,
     "metadata": {},
     "output_type": "execute_result"
    }
   ],
   "source": [
    "factorStatistics"
   ]
  },
  {
   "cell_type": "code",
   "execution_count": 28,
   "metadata": {},
   "outputs": [],
   "source": [
    "factorStatistics = dict()\n",
    "for e in projectedFactor:\n",
    "    factorStatistics[e] = set()\n",
    "\n",
    "realFactor = 0\n",
    "for i in range(len(pnlist)):\n",
    "    currPN = pnlist[i]\n",
    "    currFactor = currPN[realFactor]\n",
    "    rest = currPN[:realFactor] + currPN[realFactor+1:]\n",
    "    rest = tuple(rest)\n",
    "    factorStatistics[currFactor].add(rest)"
   ]
  },
  {
   "cell_type": "code",
   "execution_count": 29,
   "metadata": {},
   "outputs": [],
   "source": [
    "s1 = factorStatistics[(0, -1, -2, 1)] \n",
    "s2 = factorStatistics[(0, -2, -1, 1)]\n",
    "s3 = factorStatistics[(0, -1, 1, -2)]\n",
    "s4 = factorStatistics[(-2, 0, -1, 1)]"
   ]
  },
  {
   "cell_type": "code",
   "execution_count": 30,
   "metadata": {},
   "outputs": [
    {
     "name": "stdout",
     "output_type": "stream",
     "text": [
      "9 9 8 8\n"
     ]
    }
   ],
   "source": [
    "print(len(s3-s1),len(s3-s2),len(s4-s1),len(s4-s2))"
   ]
  },
  {
   "cell_type": "code",
   "execution_count": 11,
   "metadata": {},
   "outputs": [
    {
     "data": {
      "text/plain": [
       "(162, 310)"
      ]
     },
     "execution_count": 11,
     "metadata": {},
     "output_type": "execute_result"
    }
   ],
   "source": [
    "subComplexPNList = []\n",
    "preAttPNList = []\n",
    "for pn in pnlist:\n",
    "    if pn[0] not in [(0, -1, -2, 1),(0, -2, -1, 1)]:\n",
    "        subComplexPNList.append(pn)\n",
    "    else:\n",
    "        preAttPNList.append(pn)\n",
    "len(subComplexPNList),len(preAttPNList)"
   ]
  },
  {
   "cell_type": "code",
   "execution_count": 12,
   "metadata": {},
   "outputs": [
    {
     "ename": "NameError",
     "evalue": "name 'subComplexIndex' is not defined",
     "output_type": "error",
     "traceback": [
      "\u001b[0;31m---------------------------------------------------------------------------\u001b[0m",
      "\u001b[0;31mNameError\u001b[0m                                 Traceback (most recent call last)",
      "\u001b[0;32m<ipython-input-12-5e33830a5912>\u001b[0m in \u001b[0;36m<module>\u001b[0;34m\u001b[0m\n\u001b[0;32m----> 1\u001b[0;31m \u001b[0msubComplexIndex\u001b[0m\u001b[0;34m[\u001b[0m\u001b[0;36m0\u001b[0m\u001b[0;34m]\u001b[0m\u001b[0;34m\u001b[0m\u001b[0;34m\u001b[0m\u001b[0m\n\u001b[0m",
      "\u001b[0;31mNameError\u001b[0m: name 'subComplexIndex' is not defined"
     ]
    }
   ],
   "source": [
    "subComplexIndex[0]"
   ]
  },
  {
   "cell_type": "code",
   "execution_count": 13,
   "metadata": {},
   "outputs": [],
   "source": [
    "faceLatticeList = []\n",
    "for f in ['x_o_2_FL.dat','(x+y)z_o_2_FL.dat']:\n",
    "    with open(f,'r') as file:\n",
    "        faceLatticeList.append(json.load(file))"
   ]
  },
  {
   "cell_type": "code",
   "execution_count": 14,
   "metadata": {},
   "outputs": [],
   "source": [
    "for i in range(len(faceLatticeList)):\n",
    "    tempFaceList = dict()\n",
    "    currFL = faceLatticeList[i]\n",
    "    for key in currFL:\n",
    "        tempFaceList[eval(key)] = [tuple(x) for x in currFL[key]]\n",
    "    faceLatticeList[i] = tempFaceList"
   ]
  },
  {
   "cell_type": "code",
   "execution_count": 15,
   "metadata": {},
   "outputs": [],
   "source": [
    "apnList = []\n",
    "for f in ['x_o_2_PN.json','(x+y)z_o_2_PN.json']:\n",
    "    apnList.append(loadAtomicChainComplex(f))"
   ]
  },
  {
   "cell_type": "code",
   "execution_count": 17,
   "metadata": {},
   "outputs": [
    {
     "data": {
      "text/plain": [
       "8001"
      ]
     },
     "execution_count": 17,
     "metadata": {},
     "output_type": "execute_result"
    }
   ],
   "source": [
    "len(boundaryMatrix)"
   ]
  },
  {
   "cell_type": "code",
   "execution_count": 16,
   "metadata": {
    "scrolled": true
   },
   "outputs": [
    {
     "name": "stdout",
     "output_type": "stream",
     "text": [
      "queens: 3933, kings: 3933, aces: 0\n"
     ]
    }
   ],
   "source": [
    "# preAtt\n",
    "preAtt = set()\n",
    "#for i in range(len(preAttAPNList))\n",
    "for i in range(1):\n",
    "    pn = preAttPNList[i]\n",
    "    pn = [apnList[j][pn[j]]for j in range(len(apnList))]\n",
    "    temp = tensorProduct(pn)\n",
    "    for k in temp:\n",
    "        preAtt|= temp[k]\n",
    "\n",
    "\n",
    "# boundary matrix\n",
    "boundaryMatrix = dict()\n",
    "coboundaryMatrix = dict()\n",
    "\n",
    "# construct boundary matrix of subComplex\n",
    "#for i in range(len(subComplexPNList)):\n",
    "for i in range(1):\n",
    "    pn = subComplexPNList[i]\n",
    "    pn = [apnList[j][pn[j]]for j in range(len(apnList))]\n",
    "    allFaces = set()\n",
    "    pnFL = tensorProduct(pn)\n",
    "    for k in pnFL:\n",
    "        allFaces|= pnFL[k]\n",
    "    \n",
    "    for face in allFaces:\n",
    "        if face in boundaryMatrix:\n",
    "            continue\n",
    "        \n",
    "        boundary = set(product([face[0]], faceLatticeList[1][face[1]]))\n",
    "        boundary |= set(product(faceLatticeList[0][face[0]],[face[1]]))\n",
    "        \n",
    "        boundaryMatrix[face] = boundary \n",
    "        \n",
    "# # construct coboundary matrix of subComplex\n",
    "coboundaryMatrix = getCoboundaryMatrix(boundaryMatrix)\n",
    "\n",
    "# construct the subComplex\n",
    "subComplex = dict()\n",
    "for cell in boundaryMatrix:\n",
    "    if cell in preAtt:\n",
    "        continue\n",
    "    \n",
    "    subComplex[cell] = set(boundaryMatrix[cell]) - preAtt\n",
    "\n",
    "# discrete morse graph\n",
    "\n",
    "queens, kings, aces = genMatchingWithPreAtt(subComplex,coboundaryMatrix,preAtt)\n",
    "print('queens: {}, kings: {}, aces: {}'.format(len(queens),len(kings),len(aces)))"
   ]
  },
  {
   "cell_type": "code",
   "execution_count": 18,
   "metadata": {},
   "outputs": [],
   "source": [
    "def checkCoreduction(face, coboundary, currComplex,used):\n",
    "    for cell in coboundary:        \n",
    "        if len(currComplex[cell] - used) == 1:\n",
    "            return True\n",
    "    return False\n",
    "\n",
    "\n",
    "# used is the preset attractors\n",
    "def genMatchingWithPreAtt(currComplex,coboundaryMatrix,used):\n",
    "    \n",
    "    kings = []\n",
    "    queens = []\n",
    "    aces = []\n",
    "    \n",
    "    count = 0\n",
    "    while currComplex:\n",
    "        count +=1\n",
    "        \n",
    "        # find queen, king pairs\n",
    "        flag = True\n",
    "        \n",
    "        # flag: find coreducible pair in previous around\n",
    "        while flag:\n",
    "            tempComplex = dict()\n",
    "            flag = False\n",
    "            for cell in currComplex:\n",
    "\n",
    "                tempDiff = currComplex[cell] - used\n",
    "\n",
    "                if len(tempDiff) == 1:\n",
    "                    queen = list(tempDiff)[0]\n",
    "                    king = cell\n",
    "\n",
    "                    queens.append(queen)\n",
    "                    kings.append(king)\n",
    "\n",
    "                    used.add(king)\n",
    "                    used.add(queen)\n",
    "\n",
    "                    flag = True\n",
    "\n",
    "                if cell not in used:\n",
    "                    tempComplex[cell] = tempDiff\n",
    "            \n",
    "            currComplex = tempComplex\n",
    "            \n",
    "        #print(queens, kings, aces)\n",
    "        #print(tempComplex)\n",
    "        \n",
    "        # check coreducible or not\n",
    "        flag = False # exist coreducible or not\n",
    "        while not flag:\n",
    "            tempComplex = dict()\n",
    "            \n",
    "            for key in currComplex:\n",
    "                \n",
    "                # if already have coreduction in previous loop, then only restore the rest of dictionary\n",
    "                if flag:\n",
    "                    tempComplex[key] = currComplex[key]\n",
    "                    continue\n",
    "                \n",
    "                \n",
    "                if len(currComplex[key]) == 0:\n",
    "                    aces.append(key)\n",
    "                    used.add(key)\n",
    "\n",
    "                    # if key is a top cell, just continue\n",
    "                    if key not in coboundaryMatrix:\n",
    "                        continue\n",
    "\n",
    "                    # if there is a coreducible pair we break the aces collection process\n",
    "                    if checkCoreduction(key, coboundaryMatrix[key], currComplex, used):\n",
    "                        flag = True\n",
    "                        \n",
    "                else:\n",
    "                    tempComplex[key] = currComplex[key]\n",
    "            \n",
    "            currComplex = tempComplex\n",
    "            \n",
    "            # if empty\n",
    "            if not currComplex:\n",
    "                break\n",
    "        \n",
    "    return queens, kings, aces\n",
    "\n",
    "def isFace(f,c):\n",
    "    if set(f).issubset(set(c)):\n",
    "        return True\n",
    "    \n",
    "    return False\n",
    "\n",
    "def getBoundaryMatrix(apnList):\n",
    "    faceLattice = dict()\n",
    "    for index in apnList:\n",
    "        pn = apnList[index]\n",
    "        d = len(pn)\n",
    "        for dim in range(d-1,0,-1):\n",
    "            cells = pn[dim]\n",
    "            faces = pn[dim-1]\n",
    "            for c in cells:\n",
    "                for f in faces:\n",
    "                    if isFace(f,c):\n",
    "                        sf = tuple(sorted(f))\n",
    "                        sc = tuple(sorted(c))\n",
    "                        if sc not in faceLattice:\n",
    "                            faceLattice[sc] = []\n",
    "                        faceLattice[sc].append(sf)\n",
    "        \n",
    "        # the zero diminsion\n",
    "        cells = pn[0]\n",
    "        for point in cells:\n",
    "            faceLattice[tuple(sorted(point))] = []\n",
    "            \n",
    "            \n",
    "    # remove the duplicate faces\n",
    "    for key in faceLattice:\n",
    "        faceLattice[key] = list(set(faceLattice[key]))\n",
    "            \n",
    "    return faceLattice\n",
    "\n",
    "def getCoboundaryMatrix(boundarMatrix):\n",
    "    coboundaryMatrix = dict()\n",
    "    \n",
    "    for cell in boundaryMatrix:\n",
    "        boundary = boundaryMatrix[cell]\n",
    "        for b in boundary:\n",
    "            if b not in coboundaryMatrix:\n",
    "                coboundaryMatrix[b] = []\n",
    "            coboundaryMatrix[b].append(cell)\n",
    "    return coboundaryMatrix\n",
    "\n",
    "   "
   ]
  },
  {
   "cell_type": "code",
   "execution_count": 19,
   "metadata": {},
   "outputs": [
    {
     "ename": "TypeError",
     "evalue": "unhashable type: 'dict'",
     "output_type": "error",
     "traceback": [
      "\u001b[0;31m---------------------------------------------------------------------------\u001b[0m",
      "\u001b[0;31mTypeError\u001b[0m                                 Traceback (most recent call last)",
      "\u001b[0;32m<ipython-input-19-acbbdd1dfd81>\u001b[0m in \u001b[0;36m<module>\u001b[0;34m\u001b[0m\n\u001b[0;32m----> 1\u001b[0;31m \u001b[0mpn\u001b[0m \u001b[0;34m=\u001b[0m \u001b[0;34m[\u001b[0m\u001b[0mapnList\u001b[0m\u001b[0;34m[\u001b[0m\u001b[0mj\u001b[0m\u001b[0;34m]\u001b[0m\u001b[0;34m[\u001b[0m\u001b[0mpn\u001b[0m\u001b[0;34m[\u001b[0m\u001b[0mj\u001b[0m\u001b[0;34m]\u001b[0m\u001b[0;34m]\u001b[0m\u001b[0;32mfor\u001b[0m \u001b[0mj\u001b[0m \u001b[0;32min\u001b[0m \u001b[0mrange\u001b[0m\u001b[0;34m(\u001b[0m\u001b[0mlen\u001b[0m\u001b[0;34m(\u001b[0m\u001b[0mapnList\u001b[0m\u001b[0;34m)\u001b[0m\u001b[0;34m)\u001b[0m\u001b[0;34m]\u001b[0m\u001b[0;34m\u001b[0m\u001b[0;34m\u001b[0m\u001b[0m\n\u001b[0m",
      "\u001b[0;32m<ipython-input-19-acbbdd1dfd81>\u001b[0m in \u001b[0;36m<listcomp>\u001b[0;34m(.0)\u001b[0m\n\u001b[0;32m----> 1\u001b[0;31m \u001b[0mpn\u001b[0m \u001b[0;34m=\u001b[0m \u001b[0;34m[\u001b[0m\u001b[0mapnList\u001b[0m\u001b[0;34m[\u001b[0m\u001b[0mj\u001b[0m\u001b[0;34m]\u001b[0m\u001b[0;34m[\u001b[0m\u001b[0mpn\u001b[0m\u001b[0;34m[\u001b[0m\u001b[0mj\u001b[0m\u001b[0;34m]\u001b[0m\u001b[0;34m]\u001b[0m\u001b[0;32mfor\u001b[0m \u001b[0mj\u001b[0m \u001b[0;32min\u001b[0m \u001b[0mrange\u001b[0m\u001b[0;34m(\u001b[0m\u001b[0mlen\u001b[0m\u001b[0;34m(\u001b[0m\u001b[0mapnList\u001b[0m\u001b[0;34m)\u001b[0m\u001b[0;34m)\u001b[0m\u001b[0;34m]\u001b[0m\u001b[0;34m\u001b[0m\u001b[0;34m\u001b[0m\u001b[0m\n\u001b[0m",
      "\u001b[0;31mTypeError\u001b[0m: unhashable type: 'dict'"
     ]
    }
   ],
   "source": [
    "pn = [apnList[j][pn[j]]for j in range(len(apnList))]"
   ]
  },
  {
   "cell_type": "code",
   "execution_count": 20,
   "metadata": {},
   "outputs": [
    {
     "ename": "NameError",
     "evalue": "name 'subComplexIndex' is not defined",
     "output_type": "error",
     "traceback": [
      "\u001b[0;31m---------------------------------------------------------------------------\u001b[0m",
      "\u001b[0;31mNameError\u001b[0m                                 Traceback (most recent call last)",
      "\u001b[0;32m<ipython-input-20-f94dbf5a0bed>\u001b[0m in \u001b[0;36m<module>\u001b[0;34m\u001b[0m\n\u001b[0;32m----> 1\u001b[0;31m \u001b[0mtemp\u001b[0m \u001b[0;34m=\u001b[0m \u001b[0mtensorProduct\u001b[0m\u001b[0;34m(\u001b[0m\u001b[0;34m[\u001b[0m\u001b[0mapnList\u001b[0m\u001b[0;34m[\u001b[0m\u001b[0;36m0\u001b[0m\u001b[0;34m]\u001b[0m\u001b[0;34m[\u001b[0m\u001b[0msubComplexIndex\u001b[0m\u001b[0;34m[\u001b[0m\u001b[0;36m0\u001b[0m\u001b[0;34m]\u001b[0m\u001b[0;34m[\u001b[0m\u001b[0;36m0\u001b[0m\u001b[0;34m]\u001b[0m\u001b[0;34m]\u001b[0m\u001b[0;34m,\u001b[0m\u001b[0mapnList\u001b[0m\u001b[0;34m[\u001b[0m\u001b[0;36m1\u001b[0m\u001b[0;34m]\u001b[0m\u001b[0;34m[\u001b[0m\u001b[0msubComplexIndex\u001b[0m\u001b[0;34m[\u001b[0m\u001b[0;36m0\u001b[0m\u001b[0;34m]\u001b[0m\u001b[0;34m[\u001b[0m\u001b[0;36m1\u001b[0m\u001b[0;34m]\u001b[0m\u001b[0;34m]\u001b[0m\u001b[0;34m]\u001b[0m\u001b[0;34m)\u001b[0m\u001b[0;34m\u001b[0m\u001b[0;34m\u001b[0m\u001b[0m\n\u001b[0m\u001b[1;32m      2\u001b[0m \u001b[0msum\u001b[0m\u001b[0;34m(\u001b[0m\u001b[0;34m[\u001b[0m\u001b[0mlen\u001b[0m\u001b[0;34m(\u001b[0m\u001b[0mtemp\u001b[0m\u001b[0;34m[\u001b[0m\u001b[0mk\u001b[0m\u001b[0;34m]\u001b[0m\u001b[0;34m)\u001b[0m \u001b[0;32mfor\u001b[0m \u001b[0mk\u001b[0m \u001b[0;32min\u001b[0m \u001b[0mtemp\u001b[0m\u001b[0;34m]\u001b[0m\u001b[0;34m)\u001b[0m\u001b[0;34m\u001b[0m\u001b[0;34m\u001b[0m\u001b[0m\n",
      "\u001b[0;31mNameError\u001b[0m: name 'subComplexIndex' is not defined"
     ]
    }
   ],
   "source": [
    "temp = tensorProduct([apnList[0][subComplexIndex[0][0]],apnList[1][subComplexIndex[0][1]]])\n",
    "sum([len(temp[k]) for k in temp])"
   ]
  },
  {
   "cell_type": "code",
   "execution_count": 32,
   "metadata": {},
   "outputs": [
    {
     "data": {
      "text/plain": [
       "{0: {(11,), (12,), (15,), (16,), (18,), (21,)},\n",
       " 1: {(11, 16),\n",
       "  (11, 18),\n",
       "  (11, 21),\n",
       "  (12, 15),\n",
       "  (12, 16),\n",
       "  (12, 18),\n",
       "  (15, 18),\n",
       "  (15, 21),\n",
       "  (16, 21)},\n",
       " 2: {(11, 12, 16, 18),\n",
       "  (11, 15, 18, 21),\n",
       "  (11, 16, 21),\n",
       "  (12, 15, 16, 21),\n",
       "  (12, 15, 18)},\n",
       " 3: {(11, 12, 15, 16, 18, 21)}}"
      ]
     },
     "execution_count": 32,
     "metadata": {},
     "output_type": "execute_result"
    }
   ],
   "source": [
    "apnList[0][subComplexIndex[0][0]]"
   ]
  },
  {
   "cell_type": "code",
   "execution_count": 111,
   "metadata": {},
   "outputs": [
    {
     "ename": "NameError",
     "evalue": "name 'factorAPN' is not defined",
     "output_type": "error",
     "traceback": [
      "\u001b[0;31m---------------------------------------------------------------------------\u001b[0m",
      "\u001b[0;31mNameError\u001b[0m                                 Traceback (most recent call last)",
      "\u001b[0;32m<ipython-input-111-597979e03756>\u001b[0m in \u001b[0;36m<module>\u001b[0;34m\u001b[0m\n\u001b[1;32m      1\u001b[0m \u001b[0mtempComplex\u001b[0m \u001b[0;34m=\u001b[0m \u001b[0mset\u001b[0m\u001b[0;34m(\u001b[0m\u001b[0;34m)\u001b[0m\u001b[0;34m\u001b[0m\u001b[0;34m\u001b[0m\u001b[0m\n\u001b[0;32m----> 2\u001b[0;31m \u001b[0;32mfor\u001b[0m \u001b[0mi\u001b[0m \u001b[0;32min\u001b[0m \u001b[0mfactorAPN\u001b[0m\u001b[0;34m:\u001b[0m\u001b[0;34m\u001b[0m\u001b[0;34m\u001b[0m\u001b[0m\n\u001b[0m\u001b[1;32m      3\u001b[0m     \u001b[0mapn\u001b[0m \u001b[0;34m=\u001b[0m \u001b[0mfactorAPN\u001b[0m\u001b[0;34m[\u001b[0m\u001b[0mi\u001b[0m\u001b[0;34m]\u001b[0m\u001b[0;34m\u001b[0m\u001b[0;34m\u001b[0m\u001b[0m\n\u001b[1;32m      4\u001b[0m     \u001b[0;32mfor\u001b[0m \u001b[0md\u001b[0m \u001b[0;32min\u001b[0m \u001b[0mapn\u001b[0m\u001b[0;34m:\u001b[0m\u001b[0;34m\u001b[0m\u001b[0;34m\u001b[0m\u001b[0m\n\u001b[1;32m      5\u001b[0m         \u001b[0mtempComplex\u001b[0m\u001b[0;34m|=\u001b[0m \u001b[0mapn\u001b[0m\u001b[0;34m[\u001b[0m\u001b[0md\u001b[0m\u001b[0;34m]\u001b[0m\u001b[0;34m\u001b[0m\u001b[0;34m\u001b[0m\u001b[0m\n",
      "\u001b[0;31mNameError\u001b[0m: name 'factorAPN' is not defined"
     ]
    }
   ],
   "source": [
    "tempComplex = set()\n",
    "for i in factorAPN:\n",
    "    apn = factorAPN[i]\n",
    "    for d in apn:\n",
    "        tempComplex|= apn[d]\n",
    "tempComplex-=preAtt\n",
    "\n",
    "subComplex = dict()\n",
    "for cell in tempComplex:\n",
    "    subComplex[cell] = set(boundaryMatrix[cell]) - preAtt"
   ]
  },
  {
   "cell_type": "code",
   "execution_count": null,
   "metadata": {},
   "outputs": [],
   "source": [
    "queens, kings, aces = genMatchingWithPreAtt(subComplex,coboundaryMatrix,preAtt)"
   ]
  },
  {
   "cell_type": "code",
   "execution_count": 19,
   "metadata": {},
   "outputs": [
    {
     "ename": "NameError",
     "evalue": "name 'queens' is not defined",
     "output_type": "error",
     "traceback": [
      "\u001b[0;31m---------------------------------------------------------------------------\u001b[0m",
      "\u001b[0;31mNameError\u001b[0m                                 Traceback (most recent call last)",
      "\u001b[0;32m<ipython-input-19-a162f2880274>\u001b[0m in \u001b[0;36m<module>\u001b[0;34m\u001b[0m\n\u001b[0;32m----> 1\u001b[0;31m \u001b[0mprint\u001b[0m\u001b[0;34m(\u001b[0m\u001b[0;34m'queens: {}, kings: {}, aces: {}'\u001b[0m\u001b[0;34m.\u001b[0m\u001b[0mformat\u001b[0m\u001b[0;34m(\u001b[0m\u001b[0mlen\u001b[0m\u001b[0;34m(\u001b[0m\u001b[0mqueens\u001b[0m\u001b[0;34m)\u001b[0m\u001b[0;34m,\u001b[0m\u001b[0mlen\u001b[0m\u001b[0;34m(\u001b[0m\u001b[0mkings\u001b[0m\u001b[0;34m)\u001b[0m\u001b[0;34m,\u001b[0m\u001b[0mlen\u001b[0m\u001b[0;34m(\u001b[0m\u001b[0maces\u001b[0m\u001b[0;34m)\u001b[0m\u001b[0;34m)\u001b[0m\u001b[0;34m)\u001b[0m\u001b[0;34m\u001b[0m\u001b[0;34m\u001b[0m\u001b[0m\n\u001b[0m",
      "\u001b[0;31mNameError\u001b[0m: name 'queens' is not defined"
     ]
    }
   ],
   "source": [
    "print('queens: {}, kings: {}, aces: {}'.format(len(queens),len(kings),len(aces)))"
   ]
  },
  {
   "cell_type": "markdown",
   "metadata": {},
   "source": [
    "# test the computation"
   ]
  },
  {
   "cell_type": "code",
   "execution_count": 31,
   "metadata": {},
   "outputs": [],
   "source": [
    "import json\n",
    "from homologyHelpers import *"
   ]
  },
  {
   "cell_type": "code",
   "execution_count": 33,
   "metadata": {},
   "outputs": [
    {
     "name": "stdout",
     "output_type": "stream",
     "text": [
      "queens: 257661, kings: 257661, aces: 0\n"
     ]
    }
   ],
   "source": [
    "if __name__ == \"__main__\":\n",
    "    \n",
    "    with open('essentialPNList.dat','r') as file:\n",
    "        pnlist = json.load(file)\n",
    "\n",
    "    for i in range(len(pnlist)):\n",
    "        pnlist[i] = [tuple(x) for x in pnlist[i]]\n",
    "\n",
    "    # pnList for subComplex and preAtt\n",
    "    subComplexPNList = []\n",
    "    preAttPNList = []\n",
    "    \n",
    "    for pn in pnlist:\n",
    "        if pn[0] not in [(0, -1, -2, 1),(0, -2, -1, 1)]:\n",
    "            subComplexPNList.append(pn)\n",
    "        else:\n",
    "            preAttPNList.append(pn)\n",
    "\n",
    "    # face lattice list\n",
    "    faceLatticeList = []\n",
    "    for f in ['x_o_2_FL.dat','(x+y)z_o_2_FL.dat']:\n",
    "        with open(f,'r') as file:\n",
    "            faceLatticeList.append(json.load(file))\n",
    "\n",
    "    for i in range(len(faceLatticeList)):\n",
    "        tempFaceList = dict()\n",
    "        currFL = faceLatticeList[i]\n",
    "        for key in currFL:\n",
    "            tempFaceList[eval(key)] = [tuple(x) for x in currFL[key]]\n",
    "        faceLatticeList[i] = tempFaceList\n",
    "\n",
    "    # apnList\n",
    "    apnList = []\n",
    "    for f in ['x_o_2_PN.json','(x+y)z_o_2_PN.json']:\n",
    "        apnList.append(loadAtomicChainComplex(f))\n",
    "\n",
    "\n",
    "    # preAtt\n",
    "    preAtt = set()\n",
    "    for i in range(len(preAttPNList)):\n",
    "    #for i in range(1):\n",
    "        pn = preAttPNList[i]\n",
    "        pn = [apnList[j][pn[j]]for j in range(len(apnList))]\n",
    "        temp = tensorProduct(pn)\n",
    "        for k in temp:\n",
    "            preAtt|= temp[k]\n",
    "\n",
    "    # boundary matrix\n",
    "    boundaryMatrix = dict()\n",
    "    coboundaryMatrix = dict()\n",
    "\n",
    "    # construct boundary matrix of subComplex\n",
    "    for i in range(len(subComplexPNList)):\n",
    "    #for i in range(1):\n",
    "        pn = subComplexPNList[i]\n",
    "        pn = [apnList[j][pn[j]]for j in range(len(apnList))]\n",
    "        allFaces = set()\n",
    "        pnFL = tensorProduct(pn)\n",
    "        for k in pnFL:\n",
    "            allFaces|= pnFL[k]\n",
    "\n",
    "        for face in allFaces:\n",
    "            if face in boundaryMatrix:\n",
    "                continue\n",
    "\n",
    "            boundary = set(product([face[0]], faceLatticeList[1][face[1]]))\n",
    "            boundary |= set(product(faceLatticeList[0][face[0]],[face[1]]))\n",
    "\n",
    "            boundaryMatrix[face] = boundary \n",
    "\n",
    "    # # construct coboundary matrix of subComplex\n",
    "    coboundaryMatrix = getCoboundaryMatrix(boundaryMatrix)\n",
    "\n",
    "    # construct the subComplex\n",
    "    subComplex = dict()\n",
    "    for cell in boundaryMatrix:\n",
    "        if cell in preAtt:\n",
    "            continue\n",
    "\n",
    "        subComplex[cell] = set(boundaryMatrix[cell]) - preAtt\n",
    "\n",
    "    # discrete morse graph\n",
    "\n",
    "    queens, kings, aces = genMatchingWithPreAtt(subComplex,coboundaryMatrix,preAtt)\n",
    "    print('queens: {}, kings: {}, aces: {}'.format(len(queens),len(kings),len(aces)))"
   ]
  },
  {
   "cell_type": "code",
   "execution_count": 34,
   "metadata": {},
   "outputs": [
    {
     "data": {
      "text/plain": [
       "1466943"
      ]
     },
     "execution_count": 34,
     "metadata": {},
     "output_type": "execute_result"
    }
   ],
   "source": [
    "len(preAtt)"
   ]
  },
  {
   "cell_type": "code",
   "execution_count": 35,
   "metadata": {},
   "outputs": [
    {
     "data": {
      "text/plain": [
       "[((15,), (208,)),\n",
       " ((21,), (74,)),\n",
       " ((21,), (414,)),\n",
       " ((21,), (69,)),\n",
       " ((11, 21), (414,)),\n",
       " ((15,), (239,)),\n",
       " ((21,), (227,)),\n",
       " ((21,), (229,)),\n",
       " ((21,), (208,)),\n",
       " ((21,), (141,))]"
      ]
     },
     "execution_count": 35,
     "metadata": {},
     "output_type": "execute_result"
    }
   ],
   "source": [
    "queens[:10]"
   ]
  },
  {
   "cell_type": "code",
   "execution_count": 36,
   "metadata": {},
   "outputs": [
    {
     "data": {
      "text/plain": [
       "[((12, 15), (208,)),\n",
       " ((11, 21), (74,)),\n",
       " ((16, 21), (414,)),\n",
       " ((16, 21), (69,)),\n",
       " ((11, 16, 21), (414,)),\n",
       " ((12, 15), (239,)),\n",
       " ((11, 21), (227,)),\n",
       " ((11, 21), (229,)),\n",
       " ((15, 21), (208,)),\n",
       " ((16, 21), (141,))]"
      ]
     },
     "execution_count": 36,
     "metadata": {},
     "output_type": "execute_result"
    }
   ],
   "source": [
    "kings[:10]"
   ]
  },
  {
   "cell_type": "code",
   "execution_count": 37,
   "metadata": {},
   "outputs": [
    {
     "data": {
      "text/plain": [
       "155"
      ]
     },
     "execution_count": 37,
     "metadata": {},
     "output_type": "execute_result"
    }
   ],
   "source": [
    "len(s1)"
   ]
  },
  {
   "cell_type": "code",
   "execution_count": 38,
   "metadata": {},
   "outputs": [
    {
     "data": {
      "text/plain": [
       "{((0, -2, -1, 1, 2, 3, 4, 5, 6, 7),),\n",
       " ((0, -2, 2, -1, 1, 3, 4, 5, 6, 7),),\n",
       " ((0, -2, 2, 4, -1, 1, 3, 5, 6, 7),),\n",
       " ((0, -2, 2, 4, 6, -1, 1, 3, 5, 7),),\n",
       " ((0, -2, 4, -1, 1, 2, 3, 5, 6, 7),),\n",
       " ((0, -1, -2, 1, 2, 3, 4, 5, 6, 7),),\n",
       " ((0, -1, 1, -2, 2, 3, 4, 5, 6, 7),),\n",
       " ((0, -1, 1, 2, -2, 3, 4, 5, 6, 7),),\n",
       " ((0, -1, 1, 2, 3, -2, 4, 5, 6, 7),),\n",
       " ((0, -1, 1, 2, 3, 4, -2, 5, 6, 7),),\n",
       " ((0, -1, 1, 2, 3, 4, 5, -2, 6, 7),),\n",
       " ((0, -1, 1, 2, 4, -2, 3, 5, 6, 7),),\n",
       " ((0, -1, 1, 2, 4, 5, -2, 3, 6, 7),),\n",
       " ((0, -1, 1, 4, -2, 2, 3, 5, 6, 7),),\n",
       " ((0, -1, 1, 4, 5, -2, 2, 3, 6, 7),),\n",
       " ((0, -1, 2, -2, 1, 3, 4, 5, 6, 7),),\n",
       " ((0, -1, 2, 4, -2, 1, 3, 5, 6, 7),),\n",
       " ((0, -1, 4, -2, 1, 2, 3, 5, 6, 7),),\n",
       " ((0, 1, -2, -1, 2, 3, 4, 5, 6, 7),),\n",
       " ((0, 1, -2, 2, -1, 3, 4, 5, 6, 7),),\n",
       " ((0, 1, -2, 2, 3, -1, 4, 5, 6, 7),),\n",
       " ((0, 1, -2, 2, 3, 4, -1, 5, 6, 7),),\n",
       " ((0, 1, -2, 2, 3, 4, 5, -1, 6, 7),),\n",
       " ((0, 1, -2, 2, 3, 4, 5, 6, -1, 7),),\n",
       " ((0, 1, -2, 2, 3, 4, 6, -1, 5, 7),),\n",
       " ((0, 1, -2, 2, 4, -1, 3, 5, 6, 7),),\n",
       " ((0, 1, -2, 2, 4, 5, -1, 3, 6, 7),),\n",
       " ((0, 1, -2, 2, 4, 5, 6, -1, 3, 7),),\n",
       " ((0, 1, -2, 2, 4, 6, -1, 3, 5, 7),),\n",
       " ((0, 1, -2, 4, -1, 2, 3, 5, 6, 7),),\n",
       " ((0, 1, -2, 4, 5, -1, 2, 3, 6, 7),),\n",
       " ((0, 1, -1, -2, 2, 3, 4, 5, 6, 7),),\n",
       " ((0, 1, -1, 2, -2, 3, 4, 5, 6, 7),),\n",
       " ((0, 1, -1, 2, 3, -2, 4, 5, 6, 7),),\n",
       " ((0, 1, -1, 2, 3, 4, -2, 5, 6, 7),),\n",
       " ((0, 1, -1, 2, 3, 4, 5, -2, 6, 7),),\n",
       " ((0, 1, -1, 2, 4, -2, 3, 5, 6, 7),),\n",
       " ((0, 1, -1, 2, 4, 5, -2, 3, 6, 7),),\n",
       " ((0, 1, -1, 4, -2, 2, 3, 5, 6, 7),),\n",
       " ((0, 1, -1, 4, 5, -2, 2, 3, 6, 7),),\n",
       " ((0, 1, 2, -2, -1, 3, 4, 5, 6, 7),),\n",
       " ((0, 1, 2, -2, 3, -1, 4, 5, 6, 7),),\n",
       " ((0, 1, 2, -2, 3, 4, -1, 5, 6, 7),),\n",
       " ((0, 1, 2, -2, 3, 4, 5, -1, 6, 7),),\n",
       " ((0, 1, 2, -2, 3, 4, 5, 6, -1, 7),),\n",
       " ((0, 1, 2, -2, 3, 4, 6, -1, 5, 7),),\n",
       " ((0, 1, 2, -2, 4, -1, 3, 5, 6, 7),),\n",
       " ((0, 1, 2, -2, 4, 6, -1, 3, 5, 7),),\n",
       " ((0, 1, 2, -1, -2, 3, 4, 5, 6, 7),),\n",
       " ((0, 1, 2, -1, 3, -2, 4, 5, 6, 7),),\n",
       " ((0, 1, 2, -1, 3, 4, -2, 5, 6, 7),),\n",
       " ((0, 1, 2, -1, 3, 4, 5, -2, 6, 7),),\n",
       " ((0, 1, 2, -1, 4, -2, 3, 5, 6, 7),),\n",
       " ((0, 1, 2, 3, -2, -1, 4, 5, 6, 7),),\n",
       " ((0, 1, 2, 3, -2, 4, -1, 5, 6, 7),),\n",
       " ((0, 1, 2, 3, -2, 4, 5, -1, 6, 7),),\n",
       " ((0, 1, 2, 3, -2, 4, 5, 6, -1, 7),),\n",
       " ((0, 1, 2, 3, -2, 4, 6, -1, 5, 7),),\n",
       " ((0, 1, 2, 3, -1, -2, 4, 5, 6, 7),),\n",
       " ((0, 1, 2, 3, -1, 4, -2, 5, 6, 7),),\n",
       " ((0, 1, 2, 3, -1, 4, 5, -2, 6, 7),),\n",
       " ((0, 1, 2, 3, 4, -2, -1, 5, 6, 7),),\n",
       " ((0, 1, 2, 3, 4, -2, 5, -1, 6, 7),),\n",
       " ((0, 1, 2, 3, 4, -2, 5, 6, -1, 7),),\n",
       " ((0, 1, 2, 3, 4, -2, 6, -1, 5, 7),),\n",
       " ((0, 1, 2, 3, 4, -1, -2, 5, 6, 7),),\n",
       " ((0, 1, 2, 3, 4, -1, 5, -2, 6, 7),),\n",
       " ((0, 1, 2, 3, 4, 5, -2, -1, 6, 7),),\n",
       " ((0, 1, 2, 3, 4, 5, -2, 6, -1, 7),),\n",
       " ((0, 1, 2, 3, 4, 5, -1, -2, 6, 7),),\n",
       " ((0, 1, 2, 3, 4, 5, 6, -2, -1, 7),),\n",
       " ((0, 1, 2, 3, 4, 5, 6, -1, -2, 7),),\n",
       " ((0, 1, 2, 3, 4, 6, -2, -1, 5, 7),),\n",
       " ((0, 1, 2, 3, 4, 6, -2, 5, -1, 7),),\n",
       " ((0, 1, 2, 3, 4, 6, -1, -2, 5, 7),),\n",
       " ((0, 1, 2, 3, 4, 6, -1, 5, -2, 7),),\n",
       " ((0, 1, 2, 4, -2, -1, 3, 5, 6, 7),),\n",
       " ((0, 1, 2, 4, -2, 3, -1, 5, 6, 7),),\n",
       " ((0, 1, 2, 4, -2, 3, 5, -1, 6, 7),),\n",
       " ((0, 1, 2, 4, -2, 3, 5, 6, -1, 7),),\n",
       " ((0, 1, 2, 4, -2, 3, 6, -1, 5, 7),),\n",
       " ((0, 1, 2, 4, -2, 5, -1, 3, 6, 7),),\n",
       " ((0, 1, 2, 4, -2, 5, 6, -1, 3, 7),),\n",
       " ((0, 1, 2, 4, -2, 6, -1, 3, 5, 7),),\n",
       " ((0, 1, 2, 4, -1, -2, 3, 5, 6, 7),),\n",
       " ((0, 1, 2, 4, -1, 3, -2, 5, 6, 7),),\n",
       " ((0, 1, 2, 4, -1, 3, 5, -2, 6, 7),),\n",
       " ((0, 1, 2, 4, -1, 5, -2, 3, 6, 7),),\n",
       " ((0, 1, 2, 4, 5, -2, -1, 3, 6, 7),),\n",
       " ((0, 1, 2, 4, 5, -2, 3, -1, 6, 7),),\n",
       " ((0, 1, 2, 4, 5, -2, 3, 6, -1, 7),),\n",
       " ((0, 1, 2, 4, 5, -2, 6, -1, 3, 7),),\n",
       " ((0, 1, 2, 4, 5, -1, -2, 3, 6, 7),),\n",
       " ((0, 1, 2, 4, 5, -1, 3, -2, 6, 7),),\n",
       " ((0, 1, 2, 4, 5, 6, -2, -1, 3, 7),),\n",
       " ((0, 1, 2, 4, 5, 6, -2, 3, -1, 7),),\n",
       " ((0, 1, 2, 4, 5, 6, -1, -2, 3, 7),),\n",
       " ((0, 1, 2, 4, 5, 6, -1, 3, -2, 7),),\n",
       " ((0, 1, 2, 4, 6, -2, -1, 3, 5, 7),),\n",
       " ((0, 1, 2, 4, 6, -2, 3, -1, 5, 7),),\n",
       " ((0, 1, 2, 4, 6, -2, 3, 5, -1, 7),),\n",
       " ((0, 1, 2, 4, 6, -2, 5, -1, 3, 7),),\n",
       " ((0, 1, 2, 4, 6, -1, -2, 3, 5, 7),),\n",
       " ((0, 1, 2, 4, 6, -1, 3, -2, 5, 7),),\n",
       " ((0, 1, 2, 4, 6, -1, 3, 5, -2, 7),),\n",
       " ((0, 1, 2, 4, 6, -1, 5, -2, 3, 7),),\n",
       " ((0, 1, 4, -2, -1, 2, 3, 5, 6, 7),),\n",
       " ((0, 1, 4, -2, 2, -1, 3, 5, 6, 7),),\n",
       " ((0, 1, 4, -2, 2, 3, 5, -1, 6, 7),),\n",
       " ((0, 1, 4, -2, 2, 3, 5, 6, -1, 7),),\n",
       " ((0, 1, 4, -2, 2, 5, -1, 3, 6, 7),),\n",
       " ((0, 1, 4, -2, 2, 5, 6, -1, 3, 7),),\n",
       " ((0, 1, 4, -2, 2, 6, -1, 3, 5, 7),),\n",
       " ((0, 1, 4, -2, 5, -1, 2, 3, 6, 7),),\n",
       " ((0, 1, 4, -1, -2, 2, 3, 5, 6, 7),),\n",
       " ((0, 1, 4, -1, 2, -2, 3, 5, 6, 7),),\n",
       " ((0, 1, 4, -1, 2, 3, 5, -2, 6, 7),),\n",
       " ((0, 1, 4, -1, 2, 5, -2, 3, 6, 7),),\n",
       " ((0, 1, 4, -1, 5, -2, 2, 3, 6, 7),),\n",
       " ((0, 1, 4, 5, -2, -1, 2, 3, 6, 7),),\n",
       " ((0, 1, 4, 5, -2, 2, -1, 3, 6, 7),),\n",
       " ((0, 1, 4, 5, -2, 2, 3, -1, 6, 7),),\n",
       " ((0, 1, 4, 5, -2, 2, 3, 6, -1, 7),),\n",
       " ((0, 1, 4, 5, -2, 2, 6, -1, 3, 7),),\n",
       " ((0, 1, 4, 5, -1, -2, 2, 3, 6, 7),),\n",
       " ((0, 1, 4, 5, -1, 2, -2, 3, 6, 7),),\n",
       " ((0, 1, 4, 5, -1, 2, 3, -2, 6, 7),),\n",
       " ((0, 2, -2, -1, 1, 3, 4, 5, 6, 7),),\n",
       " ((0, 2, -2, 4, -1, 1, 3, 5, 6, 7),),\n",
       " ((0, 2, -2, 4, 6, -1, 1, 3, 5, 7),),\n",
       " ((0, 2, -1, -2, 1, 3, 4, 5, 6, 7),),\n",
       " ((0, 2, -1, 1, -2, 3, 4, 5, 6, 7),),\n",
       " ((0, 2, -1, 1, 3, -2, 4, 5, 6, 7),),\n",
       " ((0, 2, -1, 1, 3, 4, -2, 5, 6, 7),),\n",
       " ((0, 2, -1, 1, 4, -2, 3, 5, 6, 7),),\n",
       " ((0, 2, -1, 4, -2, 1, 3, 5, 6, 7),),\n",
       " ((0, 2, 4, -2, -1, 1, 3, 5, 6, 7),),\n",
       " ((0, 2, 4, -2, 6, -1, 1, 3, 5, 7),),\n",
       " ((0, 2, 4, -1, -2, 1, 3, 5, 6, 7),),\n",
       " ((0, 2, 4, -1, 1, -2, 3, 5, 6, 7),),\n",
       " ((0, 2, 4, 6, -2, -1, 1, 3, 5, 7),),\n",
       " ((0, 2, 4, 6, -1, -2, 1, 3, 5, 7),),\n",
       " ((0, 2, 4, 6, -1, 1, -2, 3, 5, 7),),\n",
       " ((0, 2, 4, 6, -1, 1, 3, -2, 5, 7),),\n",
       " ((0, 2, 4, 6, -1, 1, 3, 5, -2, 7),),\n",
       " ((0, 2, 4, 6, -1, 1, 5, -2, 3, 7),),\n",
       " ((0, 4, -2, -1, 1, 2, 3, 5, 6, 7),),\n",
       " ((0, 4, -2, 2, -1, 1, 3, 5, 6, 7),),\n",
       " ((0, 4, -2, 2, 6, -1, 1, 3, 5, 7),),\n",
       " ((0, 4, -1, -2, 1, 2, 3, 5, 6, 7),),\n",
       " ((0, 4, -1, 1, -2, 2, 3, 5, 6, 7),),\n",
       " ((0, 4, -1, 1, 2, -2, 3, 5, 6, 7),),\n",
       " ((0, 4, -1, 1, 2, 5, -2, 3, 6, 7),),\n",
       " ((0, 4, -1, 1, 5, -2, 2, 3, 6, 7),),\n",
       " ((0, 4, -1, 2, -2, 1, 3, 5, 6, 7),)}"
      ]
     },
     "execution_count": 38,
     "metadata": {},
     "output_type": "execute_result"
    }
   ],
   "source": [
    "s1"
   ]
  },
  {
   "cell_type": "markdown",
   "metadata": {},
   "source": [
    "# for the rest p53"
   ]
  },
  {
   "cell_type": "code",
   "execution_count": 39,
   "metadata": {},
   "outputs": [],
   "source": [
    "apnList = loadAtomicChainComplex('(x+y)z_o_2_PN.json')\n",
    "factorAPN = dict()\n",
    "for k in s1:\n",
    "    factorAPN[k[0]] = apnList[k[0]]"
   ]
  },
  {
   "cell_type": "code",
   "execution_count": 40,
   "metadata": {},
   "outputs": [],
   "source": [
    "boundaryMatrix = getBoundaryMatrix(factorAPN)\n",
    "coboundaryMatrix = getCoboundaryMatrix(boundaryMatrix)"
   ]
  },
  {
   "cell_type": "code",
   "execution_count": 41,
   "metadata": {},
   "outputs": [],
   "source": [
    "preAtt = set()\n",
    "tempComplex = set()\n",
    "for i in factorAPN:\n",
    "    apn = factorAPN[i]\n",
    "    for d in apn:\n",
    "        tempComplex|= apn[d]\n",
    "tempComplex-=preAtt\n",
    "\n",
    "subComplex = dict()\n",
    "for cell in tempComplex:\n",
    "    subComplex[cell] = set(boundaryMatrix[cell]) - preAtt"
   ]
  },
  {
   "cell_type": "code",
   "execution_count": 42,
   "metadata": {},
   "outputs": [
    {
     "name": "stdout",
     "output_type": "stream",
     "text": [
      "14418 14418 1\n"
     ]
    }
   ],
   "source": [
    "queens, kings, aces = genMatchingWithPreAtt(subComplex,coboundaryMatrix,preAtt)\n",
    "print(len(queens),len(kings),len(aces))"
   ]
  },
  {
   "cell_type": "code",
   "execution_count": 43,
   "metadata": {},
   "outputs": [
    {
     "data": {
      "text/plain": [
       "[(465,)]"
      ]
     },
     "execution_count": 43,
     "metadata": {},
     "output_type": "execute_result"
    }
   ],
   "source": [
    "aces"
   ]
  },
  {
   "cell_type": "code",
   "execution_count": null,
   "metadata": {},
   "outputs": [],
   "source": []
  }
 ],
 "metadata": {
  "kernelspec": {
   "display_name": "Python (tensorflow)",
   "language": "python",
   "name": "myenv"
  },
  "language_info": {
   "codemirror_mode": {
    "name": "ipython",
    "version": 3
   },
   "file_extension": ".py",
   "mimetype": "text/x-python",
   "name": "python",
   "nbconvert_exporter": "python",
   "pygments_lexer": "ipython3",
   "version": "3.6.7"
  }
 },
 "nbformat": 4,
 "nbformat_minor": 2
}
