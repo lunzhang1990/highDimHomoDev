{
 "cells": [
  {
   "cell_type": "code",
   "execution_count": 4,
   "metadata": {},
   "outputs": [],
   "source": [
    "import sys\n",
    "sys.path+=['/Users/lunzhang/anaconda3/lib/python3.6/site-packages']\n",
    "import DSGRN\n",
    "import os\n",
    "import json"
   ]
  },
  {
   "cell_type": "code",
   "execution_count": 5,
   "metadata": {},
   "outputs": [
    {
     "data": {
      "text/plain": [
       "803520"
      ]
     },
     "execution_count": 5,
     "metadata": {},
     "output_type": "execute_result"
    }
   ],
   "source": [
    "nwStr = \"Mdm2:p53 \\n ATM:~Wip1 \\n Wip1:p53 \\n Chk2:(ATM)(~Wip1) \\n p53:(ATM+Chk2)(~Mdm2)\"\n",
    "network = DSGRN.Network(nwStr)\n",
    "DSGRN.DrawGraph(network)\n",
    "parameterGraph = DSGRN.ParameterGraph(network)\n",
    "parameterGraph.size()"
   ]
  },
  {
   "cell_type": "code",
   "execution_count": 6,
   "metadata": {},
   "outputs": [
    {
     "name": "stdout",
     "output_type": "stream",
     "text": [
      "0\n",
      "100000\n",
      "200000\n",
      "300000\n",
      "400000\n",
      "500000\n",
      "600000\n",
      "700000\n",
      "800000\n"
     ]
    }
   ],
   "source": [
    "oscillatory = []\n",
    "size = parameterGraph.size()\n",
    "for i in range(size):\n",
    "    parameterSample = parameterGraph.parameter(i)\n",
    "    domainGraph = DSGRN.DomainGraph(parameterSample)\n",
    "    morseDecomposition = DSGRN.MorseDecomposition(domainGraph.digraph())\n",
    "    morseGraph = DSGRN.MorseGraph(domainGraph, morseDecomposition)\n",
    "    l = morseGraph.poset().size()\n",
    "    if i%100000==0:\n",
    "        print(i)\n",
    "    for j in range(l):\n",
    "        if morseGraph.annotation(j)[0].startswith('FC') and len(morseGraph.poset().children(j))==0:\n",
    "            oscillatory.append(parameterSample)\n",
    "            break"
   ]
  },
  {
   "cell_type": "code",
   "execution_count": 7,
   "metadata": {},
   "outputs": [],
   "source": [
    "# suppose there are at most 2 thresholds\n",
    "def stringifyParser(l):\n",
    "    ret =  []\n",
    "    l = eval(l)\n",
    "    #print(l)\n",
    "    for i in range(len(l)):\n",
    "        inputNo = l[i][1][0]  \n",
    "        m=outputNo = l[i][1][1] \n",
    "        polyNo = pow(2,inputNo)\n",
    "        totalLen = polyNo*outputNo\n",
    "\n",
    "        logic = l[i][1][2]\n",
    "        logic = bin(int(logic,16))[2:].zfill(totalLen)\n",
    "\n",
    "        lower = []\n",
    "        middle = []\n",
    "        upper = []\n",
    "        thetas = l[i][2]\n",
    "        temp = []\n",
    "        for j in range(0,len(logic),m):\n",
    "            polyIndex = polyNo - int(j/m) - 1\n",
    "            piece = logic[j:j+m]\n",
    "            #print(piece)\n",
    "            if len(set(piece)) == 2:\n",
    "                middle.append(polyIndex)\n",
    "            elif set(piece) == set('1'):\n",
    "                upper.append(polyIndex)\n",
    "            else:\n",
    "                lower.append(polyIndex)\n",
    "\n",
    "        if len(thetas)==1:\n",
    "            temp = sorted(lower) + [-thetas[0]-1] + sorted(upper)\n",
    "        else:\n",
    "            temp = sorted(lower) + [-thetas[0]-1] + sorted(middle) + [-thetas[1]-1]+sorted(upper)\n",
    "            #print(temp)\n",
    "\n",
    "        ret.append(tuple(temp))\n",
    "    return ret"
   ]
  },
  {
   "cell_type": "code",
   "execution_count": 14,
   "metadata": {},
   "outputs": [],
   "source": [
    "pnlist = [stringifyParser(x.stringify()) for x in oscillatory]"
   ]
  },
  {
   "cell_type": "code",
   "execution_count": 15,
   "metadata": {},
   "outputs": [],
   "source": [
    "with open('osciP53pnlist.json','w') as file:\n",
    "    json.dump(pnlist, file)"
   ]
  },
  {
   "cell_type": "code",
   "execution_count": null,
   "metadata": {},
   "outputs": [],
   "source": []
  }
 ],
 "metadata": {
  "kernelspec": {
   "display_name": "Python (tensorflow)",
   "language": "python",
   "name": "myenv"
  },
  "language_info": {
   "codemirror_mode": {
    "name": "ipython",
    "version": 3
   },
   "file_extension": ".py",
   "mimetype": "text/x-python",
   "name": "python",
   "nbconvert_exporter": "python",
   "pygments_lexer": "ipython3",
   "version": "3.6.7"
  }
 },
 "nbformat": 4,
 "nbformat_minor": 2
}
