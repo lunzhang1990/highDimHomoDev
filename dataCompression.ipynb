{
 "cells": [
  {
   "cell_type": "markdown",
   "metadata": {},
   "source": [
    "# Data Compress Method"
   ]
  },
  {
   "cell_type": "code",
   "execution_count": null,
   "metadata": {},
   "outputs": [],
   "source": [
    "def compressIt(pnlist,nodeTypeList):\n",
    "    \"\"\"the main function to compress the polyhedra complex by coordinates\"\"\"\n",
    "    candidates = set(range(len(pnlist[0])))\n",
    "    buffers = set()\n",
    "    currentPNList = pnlist\n",
    "    \n",
    "    \n",
    "    while candidates != buffers:\n",
    "        \n",
    "        coordinate = selectCoordinates(currentPNList, candidates, buffers)\n",
    "        currentAtomicPNList = list(set([x[coordinate] for x in currentPNList]))\n",
    "        \n",
    "        fiberDict = generateFiberDictionary(currentPNList,coordinate)\n",
    "        \n",
    "        \n",
    "        nodeType = nodeTypeList[coordinate]\n",
    "        topCellAdjacencyInfoByCoordinate = getTopCellAdajcencyForAtomicPN(nodetype)\n",
    "        updatedPNList = compressSelectedCoordinate(coordinate,fiberDict,topCellAdjacencyInfoByCoordinate)\n",
    "        \n",
    "        if len(updatedPNList) == len(currentPNList):\n",
    "            buffers.add(coordinate)\n",
    "        else:\n",
    "            buffers = set([coordinate])\n",
    "            isSingleNodeUpdate(currentPNList,coordinate,candidates)\n",
    "            \n",
    "\n",
    "            \n",
    "\n",
    "def selectCoordiantes(pnlist,candidates,buffers):\n",
    "    \"\"\"select the one with smallest base\"\"\"\n",
    "    diff = candidates - buffers\n",
    "    l = float(\"Inf\")\n",
    "    ret = -1\n",
    "    for coord in diff:\n",
    "        baseLength = len(set([x[coord] for x in pnlist]))\n",
    "        if baseLength < l:\n",
    "            l = baseLength\n",
    "            ret = coord\n",
    "            \n",
    "    return coord\n",
    "\n",
    "\n",
    "\n",
    "def compressSelectedCoordinate(coordinate,fiberDict,topCellAdjacencyInfoByCoordinate):\n",
    "    \"\"\"Not that easy\"\"\"\n",
    "    while True:\n",
    "        orderedAtomicPNList = selectPNByFiberLength(atomicPNList)\n",
    "    for apn in orderedAtomicPNList:\n",
    "        isCompressible(apn,fiberDict,topCellAdjacencyInfoByCoordinate)\n",
    "    pass\n",
    "\n",
    "def selectPNByFiberLength(atomicPNList):\n",
    "    \"\"\"We can select atomic parameter with increasing order of the fiber length\"\"\"\n",
    "    \n",
    "    return ret\n",
    "\n",
    "def isCompressible(apn,fiberDict,topCellAdjacencyInfoByCoordinate):\n",
    "    \"\"\"Need the preAtt discrete morse method\"\"\"\n",
    "    \n",
    "    # if fiber is minimal in its neighborhood, it is continue, else return False\n",
    "    \n",
    "    # is the ace an empty set, if it is return True, else return False\n",
    "    \n",
    "    king, queen, ace = discreteMorseWithPreAtt(apn,atomicPNList,cellComplexDict,coBoundaryDict)\n",
    "    if len(ace) == 0:\n",
    "        return True\n",
    "    else:\n",
    "        return False\n",
    "\n",
    "def isSingleNodeUpdate(currentPNList,coordinate,candidates):\n",
    "    if len(set([x[coordinate] for x in currentPNList])) == 1:\n",
    "        candidates.add(coordinates)\n",
    "    return \n",
    "\n",
    "\n",
    "def getAdjacencyTopCell(pn,topCellAdjacencyInfoByCoordinate):\n",
    "    pass\n",
    "\n",
    "\n",
    "def discreteMorseWithPreAtt(apn,atomicPNList,cellComplexDict,coBoundaryDict):\n",
    "    king, queen, ace = set(), set(), set()\n",
    "    return king, queen, ace"
   ]
  },
  {
   "cell_type": "code",
   "execution_count": 1,
   "metadata": {},
   "outputs": [
    {
     "data": {
      "text/plain": [
       "{2}"
      ]
     },
     "execution_count": 1,
     "metadata": {},
     "output_type": "execute_result"
    }
   ],
   "source": [
    "set([1,2]) -set([1])"
   ]
  },
  {
   "cell_type": "code",
   "execution_count": null,
   "metadata": {},
   "outputs": [],
   "source": []
  },
  {
   "cell_type": "code",
   "execution_count": null,
   "metadata": {},
   "outputs": [],
   "source": []
  },
  {
   "cell_type": "code",
   "execution_count": null,
   "metadata": {},
   "outputs": [],
   "source": []
  },
  {
   "cell_type": "markdown",
   "metadata": {},
   "source": [
    "# Discrete Morse or Direct Computation"
   ]
  },
  {
   "cell_type": "code",
   "execution_count": null,
   "metadata": {},
   "outputs": [],
   "source": []
  }
 ],
 "metadata": {
  "kernelspec": {
   "display_name": "Python (tensorflow)",
   "language": "python",
   "name": "myenv"
  },
  "language_info": {
   "codemirror_mode": {
    "name": "ipython",
    "version": 3
   },
   "file_extension": ".py",
   "mimetype": "text/x-python",
   "name": "python",
   "nbconvert_exporter": "python",
   "pygments_lexer": "ipython3",
   "version": "3.6.7"
  }
 },
 "nbformat": 4,
 "nbformat_minor": 2
}
